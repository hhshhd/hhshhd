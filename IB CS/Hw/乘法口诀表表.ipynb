{
 "cells": [
  {
   "cell_type": "code",
   "execution_count": 1,
   "metadata": {},
   "outputs": [
    {
     "name": "stdout",
     "output_type": "stream",
     "text": [
      "number:9\n",
      "\n",
      "\n",
      "1 * 1 = 1 \n",
      "\n",
      "2 * 1 = 2 2 * 2 = 4 \n",
      "\n",
      "3 * 1 = 3 3 * 2 = 6 3 * 3 = 9 \n",
      "\n",
      "4 * 1 = 4 4 * 2 = 8 4 * 3 = 12 4 * 4 = 16 \n",
      "\n",
      "5 * 1 = 5 5 * 2 = 10 5 * 3 = 15 5 * 4 = 20 5 * 5 = 25 \n",
      "\n",
      "6 * 1 = 6 6 * 2 = 12 6 * 3 = 18 6 * 4 = 24 6 * 5 = 30 6 * 6 = 36 \n",
      "\n",
      "7 * 1 = 7 7 * 2 = 14 7 * 3 = 21 7 * 4 = 28 7 * 5 = 35 7 * 6 = 42 7 * 7 = 49 \n",
      "\n",
      "8 * 1 = 8 8 * 2 = 16 8 * 3 = 24 8 * 4 = 32 8 * 5 = 40 8 * 6 = 48 8 * 7 = 56 8 * 8 = 64 \n",
      "\n",
      "9 * 1 = 9 9 * 2 = 18 9 * 3 = 27 9 * 4 = 36 9 * 5 = 45 9 * 6 = 54 9 * 7 = 63 9 * 8 = 72 9 * 9 = 81 \n"
     ]
    }
   ],
   "source": [
    "\"\"\"\n",
    "Created on Tue Sep 11 15:49:42 2018\n",
    "\n",
    "@author: hhshhd\n",
    "\"\"\"\n",
    "start=int(input('number:'))\n",
    "x=0\n",
    "y=0\n",
    "while x!=start:\n",
    "    print('\\n')\n",
    "    x+=1\n",
    "    y=0\n",
    "    for i in range(x):\n",
    "        y+=1\n",
    "        print(x,'*',y,'=',x*y,'', end='')\n",
    "else:\n",
    "    print('')"
   ]
  },
  {
   "cell_type": "code",
   "execution_count": null,
   "metadata": {},
   "outputs": [],
   "source": []
  }
 ],
 "metadata": {
  "kernelspec": {
   "display_name": "Python 3",
   "language": "python",
   "name": "python3"
  },
  "language_info": {
   "codemirror_mode": {
    "name": "ipython",
    "version": 3
   },
   "file_extension": ".py",
   "mimetype": "text/x-python",
   "name": "python",
   "nbconvert_exporter": "python",
   "pygments_lexer": "ipython3",
   "version": "3.6.5"
  }
 },
 "nbformat": 4,
 "nbformat_minor": 2
}
