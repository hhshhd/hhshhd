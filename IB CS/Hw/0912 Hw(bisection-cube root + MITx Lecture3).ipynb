{
 "cells": [
  {
   "cell_type": "code",
   "execution_count": 5,
   "metadata": {},
   "outputs": [
    {
     "name": "stdout",
     "output_type": "stream",
     "text": [
      "-0.008\n",
      "low = 0.0 high = 1.0 ans = 0.5\n",
      "low = 0.0 high = 0.5 ans = 0.25\n",
      "low = 0.0 high = 0.25 ans = 0.125\n",
      "low = 0.125 high = 0.25 ans = 0.1875\n",
      "low = 0.1875 high = 0.25 ans = 0.21875\n",
      "low = 0.1875 high = 0.21875 ans = 0.203125\n",
      "low = 0.1875 high = 0.203125 ans = 0.1953125\n",
      "numGuesses = 7\n",
      "- 0.19921875 is close to cube root of -0.008\n"
     ]
    }
   ],
   "source": [
    "x = eval(input(''))\n",
    "epsilon = 0.0001\n",
    "numGuesses = 0\n",
    "low = 0.0\n",
    "high = max(1.0, abs(x))\n",
    "ans = (high + low)/2.0\n",
    "while abs(ans**3 - abs(x)) >= epsilon:\n",
    "    print ('low =', low, 'high =', high, 'ans =', ans)\n",
    "    numGuesses += 1\n",
    "    if ans**3 < abs(x):\n",
    "        low = ans\n",
    "    else:\n",
    "        high = ans\n",
    "    ans = (high + low)/2.0\n",
    "print ('numGuesses =', numGuesses)\n",
    "if x<=0:\n",
    "    print ('-',ans, 'is close to cube root of', x)\n",
    "else:\n",
    "    print (ans, 'is close to cube root of', x)\n"
   ]
  },
  {
   "cell_type": "markdown",
   "metadata": {},
   "source": [
    "![image](/IB CS/Hw/Pics/f.png)"
   ]
  }
 ],
 "metadata": {
  "kernelspec": {
   "display_name": "Python 3",
   "language": "python",
   "name": "python3"
  },
  "language_info": {
   "codemirror_mode": {
    "name": "ipython",
    "version": 3
   },
   "file_extension": ".py",
   "mimetype": "text/x-python",
   "name": "python",
   "nbconvert_exporter": "python",
   "pygments_lexer": "ipython3",
   "version": "3.6.5"
  }
 },
 "nbformat": 4,
 "nbformat_minor": 2
}
