{
 "cells": [
  {
   "cell_type": "markdown",
   "metadata": {},
   "source": [
    "![image](/IB CS/Option/hw1.png)\n",
    "###### 为了在github上更好的演示，下面的代码都事先给了定义值s，在edX上是没有的"
   ]
  },
  {
   "cell_type": "code",
   "execution_count": 1,
   "metadata": {},
   "outputs": [
    {
     "name": "stdout",
     "output_type": "stream",
     "text": [
      "11\n"
     ]
    }
   ],
   "source": [
    "s='acuwehqidbcqnonqxmqojdhebcuwbqiqexibx' #11\n",
    "a=0\n",
    "for i in s:\n",
    "    if i == 'a':\n",
    "        a+=1\n",
    "    elif i == 'e':\n",
    "        a+=1\n",
    "    elif i == 'i':\n",
    "        a+=1\n",
    "    elif i == 'o':\n",
    "        a+=1\n",
    "    elif i == 'u':\n",
    "        a+=1\n",
    "print(a)"
   ]
  },
  {
   "cell_type": "code",
   "execution_count": 2,
   "metadata": {},
   "outputs": [
    {
     "name": "stdout",
     "output_type": "stream",
     "text": [
      "4\n"
     ]
    }
   ],
   "source": [
    "s='awhdobobobobahwudcnawbaobobcahwudanboawhdu'#4\n",
    "Bobs=0\n",
    "for i in range(1, len(s)-1):\n",
    "    if s[i-1:i+2] == 'bob':\n",
    "        Bobs+=1\n",
    "print(Bobs)"
   ]
  },
  {
   "cell_type": "code",
   "execution_count": 3,
   "metadata": {},
   "outputs": [
    {
     "name": "stdout",
     "output_type": "stream",
     "text": [
      "bhjps\n"
     ]
    }
   ],
   "source": [
    "s='auwhdbxaibhjpsnwnanxancihbwadhaibcxa'\n",
    "st=0\n",
    "nd=1\n",
    "count1=''\n",
    "count2=''\n",
    "while nd<len(s):\n",
    "    if nd>=len(s):\n",
    "        break\n",
    "    elif s[st]<=s[nd]:\n",
    "        count1+=s[st:nd+1]\n",
    "        while nd<=len(s):\n",
    "            nd+=1\n",
    "            if nd>=len(s):\n",
    "                break\n",
    "            elif s[nd]>=count1[-1]:\n",
    "                count1+=s[nd]\n",
    "                if len(count1)>len(count2):\n",
    "                    count2=count1\n",
    "            else:\n",
    "                if len(count1)>len(count2):\n",
    "                    count2=count1\n",
    "                count1=''\n",
    "                st=nd-1\n",
    "                break\n",
    "    else:\n",
    "        if len(s[st])>len(count2):\n",
    "            count2=s[st]\n",
    "        st+=1\n",
    "        nd+=1\n",
    "print(count2)"
   ]
  }
 ],
 "metadata": {
  "kernelspec": {
   "display_name": "Python 3",
   "language": "python",
   "name": "python3"
  },
  "language_info": {
   "codemirror_mode": {
    "name": "ipython",
    "version": 3
   },
   "file_extension": ".py",
   "mimetype": "text/x-python",
   "name": "python",
   "nbconvert_exporter": "python",
   "pygments_lexer": "ipython3",
   "version": "3.6.5"
  }
 },
 "nbformat": 4,
 "nbformat_minor": 2
}
