{
 "cells": [
  {
   "cell_type": "code",
   "execution_count": 1,
   "metadata": {},
   "outputs": [
    {
     "data": {
      "text/plain": [
       "45"
      ]
     },
     "execution_count": 1,
     "metadata": {},
     "output_type": "execute_result"
    }
   ],
   "source": [
    "def SUM(m,n):\n",
    "    if m==n:\n",
    "        return m\n",
    "    else:\n",
    "        return m+SUM(m+1,n)\n",
    "SUM(5,10)"
   ]
  },
  {
   "cell_type": "code",
   "execution_count": 2,
   "metadata": {},
   "outputs": [
    {
     "data": {
      "text/plain": [
       "60"
      ]
     },
     "execution_count": 2,
     "metadata": {},
     "output_type": "execute_result"
    }
   ],
   "source": [
    "def gantanhao(m,n):\n",
    "    ''' m=first num\n",
    "        n=last num\n",
    "        output = n!/m!\n",
    "        i.e. m=1 n=10 output=10!\n",
    "             m=3 n=5 output=3*4*5\n",
    "    '''\n",
    "    if m==n:\n",
    "        return m\n",
    "    else:\n",
    "        return m*gantanhao(m+1,n)\n",
    "gantanhao(3,5)"
   ]
  },
  {
   "cell_type": "code",
   "execution_count": 3,
   "metadata": {},
   "outputs": [
    {
     "data": {
      "text/plain": [
       "81"
      ]
     },
     "execution_count": 3,
     "metadata": {},
     "output_type": "execute_result"
    }
   ],
   "source": [
    "def cifang(a,b):\n",
    "    ''' a=base\n",
    "       b=index\n",
    "       ouput=a^b\n",
    "    '''\n",
    "    if b==1:\n",
    "        return a\n",
    "    else:\n",
    "        return a*cifang(a,b-1)\n",
    "cifang(3,4)"
   ]
  },
  {
   "cell_type": "code",
   "execution_count": 16,
   "metadata": {},
   "outputs": [
    {
     "name": "stdout",
     "output_type": "stream",
     "text": [
      "11 34\n"
     ]
    }
   ],
   "source": [
    "def sum_rabbit(a,b,n):\n",
    "    '''a=1st term\n",
    "      b=2nd term\n",
    "      n=len(terms)\n",
    "      output=sum of first n terms\n",
    "    '''\n",
    "    if n==1:\n",
    "        return a\n",
    "    else:\n",
    "        return a+sum_rabbit(b,a+b,n-1)\n",
    "def num_rabbit(x,y,m):\n",
    "    '''x=1st term\n",
    "      y=2nd term\n",
    "      m=len(terms)\n",
    "      output= Mth term\n",
    "    '''\n",
    "    if m==2:\n",
    "        return y\n",
    "    else:\n",
    "        return num_rabbit(y,y+x,m-1)\n",
    "print(sum_rabbit(1,2,4), num_rabbit(1,2,8))"
   ]
  },
  {
   "cell_type": "code",
   "execution_count": 18,
   "metadata": {},
   "outputs": [],
   "source": [
    "import math\n",
    "import turtle as h\n",
    "h.speed(100)\n",
    "def circ(length,angle,a,n):\n",
    "    if n>0:\n",
    "        h.left(angle)\n",
    "        h.forward(length)\n",
    "        h.rt(angle)\n",
    "        circ(length*math.cos(a*math.pi/180),angle-a,a,n-1)\n",
    "    else:\n",
    "        h.home()\n",
    "circ(100,30,30,50)"
   ]
  }
 ],
 "metadata": {
  "kernelspec": {
   "display_name": "Python 3",
   "language": "python",
   "name": "python3"
  },
  "language_info": {
   "codemirror_mode": {
    "name": "ipython",
    "version": 3
   },
   "file_extension": ".py",
   "mimetype": "text/x-python",
   "name": "python",
   "nbconvert_exporter": "python",
   "pygments_lexer": "ipython3",
   "version": "3.6.5"
  }
 },
 "nbformat": 4,
 "nbformat_minor": 2
}
