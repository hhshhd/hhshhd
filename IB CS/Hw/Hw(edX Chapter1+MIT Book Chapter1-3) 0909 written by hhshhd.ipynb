{
 "cells": [
  {
   "cell_type": "markdown",
   "metadata": {},
   "source": [
    "![image](/IB CS/Option/hw1.png)"
   ]
  },
  {
   "cell_type": "code",
   "execution_count": null,
   "metadata": {},
   "outputs": [],
   "source": [
    "a=0\n",
    "for i in s:\n",
    "    if i == 'a':\n",
    "        a+=1\n",
    "    elif i == 'e':\n",
    "        a+=1\n",
    "    elif i == 'i':\n",
    "        a+=1\n",
    "    elif i == 'o':\n",
    "        a+=1\n",
    "    elif i == 'u':\n",
    "        a+=1\n",
    "print(a)"
   ]
  },
  {
   "cell_type": "code",
   "execution_count": null,
   "metadata": {},
   "outputs": [],
   "source": [
    "Bobs=0\n",
    "for i in range(1, len(s)-1):\n",
    "    if s[i-1:i+2] == 'bob':\n",
    "        Bobs+=1\n",
    "print(Bobs)"
   ]
  },
  {
   "cell_type": "code",
   "execution_count": null,
   "metadata": {},
   "outputs": [],
   "source": [
    "first=0\n",
    "second=1\n",
    "strang1=''\n",
    "strang2=''\n",
    "while second<len(s):\n",
    "    if second>=len(s):\n",
    "        break\n",
    "    elif s[first]<=s[second]:\n",
    "        strang1+=s[first:second+1]\n",
    "        while second<=len(s):\n",
    "            second+=1\n",
    "            if second>=len(s):\n",
    "                break\n",
    "            elif s[second]>=strang1[-1]:\n",
    "                strang1+=s[second]\n",
    "                if len(strang1)>len(strang2):\n",
    "                    strang2=strang1\n",
    "            else:\n",
    "                if len(strang1)>len(strang2):\n",
    "                    strang2=strang1\n",
    "                strang1=''\n",
    "                first=second-1\n",
    "                break\n",
    "    else:\n",
    "        if len(s[first])>len(strang2):\n",
    "            strang2=s[first]\n",
    "        first+=1\n",
    "        second+=1\n",
    "print(\"Longest substring in alphabetical order is:\" + strang2)"
   ]
  },
  {
   "cell_type": "markdown",
   "metadata": {},
   "source": [
    "###### 因为与课上所讲的内容有部分重复，所以笔记也会有部分重复，为了区分我会在课外增加的笔记前面增添“#”"
   ]
  },
  {
   "cell_type": "markdown",
   "metadata": {},
   "source": [
    "# Intro to Jupyter Notebook & edX\n",
    "\n",
    "###### CS HL 0905 written by hhshhd \n",
    "\n",
    "### Jupyter Notebook\n",
    "  \n",
    "tips:   \n",
    "run=shift+enter  \n",
    "hide output results= Cell->Current Outputs->Clear  \n",
    "Other shortcuts please click👇 to learn more.  \n",
    "\n",
    "![image](/LectureNotes/Pics for notes/Something Interesting/c.png)\n",
    "\n",
    "### edX Learning\n",
    "\n",
    "MAKE SURE EVERYONE JOIN IN THE COURSE CALLED \n",
    "##### [Introduction to Computer Science and Programing Using Python](https://courses.edx.org/courses/course-v1:MITx+6.00.1x+2T2018/course/)\n",
    "#### You can decide whether you need a certificate👇\n",
    "\n",
    "![image](/LectureNotes/Pics for notes/Something Interesting/d.png)\n",
    "\n",
    ">MITx:6.00.1x  \n",
    "6->Department/subject (CS)  \n",
    "00->basic information of CS  \n",
    "1->start of base  \n",
    "x->courses online  \n",
    "\n",
    "\n",
    ">[kagggggle](https://www.kaggle.com)——主要为开发商和数据科学家提供举办机器学习竞赛、托管数据库、编写和分享代码的平台。\n",
    "\n",
    "我们的课程是跟随着edX上教课的内容走的，所以根据<font color=#CD0000>edX Learning</font>完成当周所对应的Chapter的所有视频+练习+作业。\n",
    "\n",
    "![image](/LectureNotes/Pics for notes/Something Interesting/e.png)\n",
    "\n",
    "### Overview of Course \n",
    "-**learn computational modes of thinking**  \n",
    "-master the art of computational problem solving  \n",
    "-make computers do what you want them to do\n",
    "\n",
    "#think computationally——when you given a new challenge how can i get the computer to solve this for me? How can I describe the stages I want\n",
    "to use to get this done in such a manner that I don't have to do it. I can get the computer to do it.\n",
    "\n",
    "**What does a comupter do?**  \n",
    "-calculations   \n",
    "1.bulit-in functions  \n",
    "2.self-define functions  \n",
    "-memory  \n",
    "\n",
    "www = world wide web\n",
    "\n",
    "**Algorithms**  \n",
    "why algorithms?   \n",
    "1.speed up  \n",
    "2.save space of storage  \n",
    "\n",
    "**Types of Knowledge,**  \n",
    "-declaritive knowledge  \n",
    "#statements of facts  \n",
    "-imperative knwoledge  \n",
    "#\"how to\" or recipe  \n",
    "\n",
    "tips: \n",
    "1.变量定义不可以使python自带的一些字词  \n",
    "2.变量定义要一目了然，让读者能爱看得懂   \n",
    "3.close enough!= equal，所以要定义区间  \n",
    "4.尽量使用简便的算法，如能使用比大小加减就不适用乘除判断\n",
    "\n",
    "### Computer are machines  \n",
    "0.fixed program  \n",
    ">computer \n",
    "-calculator   \n",
    "-Alan Turing's Bombe  \n",
    "\n",
    "1.stored program  \n",
    ">computer  \n",
    "-machine stores and excutes instructions.  "
   ]
  },
  {
   "cell_type": "markdown",
   "metadata": {},
   "source": [
    "#STORED PROGRAM COMPUTER  \n",
    "sequence of instructions stored inside computer ◦ built from predefined set of primitive instructions  \n",
    "1) arithmetic and logic  \n",
    "2) simple tests  \n",
    "3) moving data  \n",
    "special program (interpreter) executes each instruction in order  \n",
    "◦ use tests to change flow of control through sequence ◦ stop when done  \n",
    "\n",
    "#BASIC PRIMITIVES  \n",
    "Turing showed you can compute anything using 6 primitives  \n",
    "modern programming languages have more convenient set of primitives  \n",
    "can abstract methods to create new primitives  \n",
    "anything computable in one language is computable in any other programming language  \n",
    "### Creating Recipes  \n",
    "-opertaions.   \n",
    "-expressions    \n",
    "### Aspects of Languages\n",
    "-Primitive Constructs  \n",
    "-syntax    \n",
    "-static semantics    \n",
    "-semantics  CONTROL FLOW - BRANCHING  \n",
    "   if < condition >: < expression > < expression >  \n",
    "...  \n",
    " < condition > has a value True or False  \n",
    " evaluate expressions in that block if < condition > is True    \n",
    "if  < condition > : < expression > < expression >  \n",
    "    ...  \n",
    "elif < condition >:  \n",
    "< expression > < expression > ...  \n",
    "else:  \n",
    "    < expression >  \n",
    "< expression> ...  \n",
    " if < condition >: < expression > < expression >  \n",
    "... else:  \n",
    "< expression > < expression > ...  \n",
    "6.00.1X LECTURE 48  "
   ]
  },
  {
   "cell_type": "markdown",
   "metadata": {},
   "source": [
    "### Python Programs\n",
    "A program is a sequence of  \n",
    "-definition evaluated  \n",
    "-command  evaluated\n",
    "#can be typed directly in a shell or stored in a file that is read into the shell and evaluated  \n",
    "## python 是一个纯OOP的语言  \n",
    "### programs manipulate data objects  \n",
    ">objects are  \n",
    "\n",
    "\n",
    ">◦ scalar (cannot be subdivided)  \n",
    "int – represent integers, ex.5\n",
    "float – represent real numbers, ex.3.27\n",
    "   bool – represent Boolean values True and False NoneType – special and has one value,None\n",
    "   \n",
    ">◦ non-scalar (have internal structure that can be accessed)  \n",
    "\n",
    "#Scalar Objects  \n",
    "int \n",
    "float  \n",
    "bool  \n",
    "Nonetype  \n",
    "\n",
    "#OPERATORS ON ints and floats  \n",
    "**, //, %, * , /, +, -. only ()\n",
    "#COMPARISON OPERATORS ON int and float\n",
    ">, <, >=, <=, ==(equality test), !=(inequality test)"
   ]
  },
  {
   "cell_type": "code",
   "execution_count": 10,
   "metadata": {},
   "outputs": [
    {
     "name": "stdout",
     "output_type": "stream",
     "text": [
      "hello world\n"
     ]
    },
    {
     "data": {
      "text/plain": [
       "NoneType"
      ]
     },
     "execution_count": 10,
     "metadata": {},
     "output_type": "execute_result"
    }
   ],
   "source": [
    "def a():\n",
    "    print('hello world')\n",
    "type(a())\n"
   ]
  },
  {
   "cell_type": "code",
   "execution_count": 15,
   "metadata": {},
   "outputs": [
    {
     "name": "stdout",
     "output_type": "stream",
     "text": [
      "12.34\n"
     ]
    },
    {
     "data": {
      "text/plain": [
       "float"
      ]
     },
     "execution_count": 15,
     "metadata": {},
     "output_type": "execute_result"
    }
   ],
   "source": [
    "a=float('12.34')\n",
    "print(a)\n",
    "type(a)"
   ]
  },
  {
   "cell_type": "markdown",
   "metadata": {},
   "source": [
    "Console👆"
   ]
  },
  {
   "cell_type": "code",
   "execution_count": 18,
   "metadata": {},
   "outputs": [
    {
     "data": {
      "text/plain": [
       "3.3333333333333335"
      ]
     },
     "execution_count": 18,
     "metadata": {},
     "output_type": "execute_result"
    }
   ],
   "source": [
    "10/3"
   ]
  },
  {
   "cell_type": "code",
   "execution_count": 19,
   "metadata": {},
   "outputs": [
    {
     "data": {
      "text/plain": [
       "3"
      ]
     },
     "execution_count": 19,
     "metadata": {},
     "output_type": "execute_result"
    }
   ],
   "source": [
    "10//3"
   ]
  },
  {
   "cell_type": "code",
   "execution_count": 20,
   "metadata": {},
   "outputs": [
    {
     "data": {
      "text/plain": [
       "1"
      ]
     },
     "execution_count": 20,
     "metadata": {},
     "output_type": "execute_result"
    }
   ],
   "source": [
    "10%3"
   ]
  },
  {
   "cell_type": "markdown",
   "metadata": {},
   "source": [
    "### operator precedence without parentheses   \n",
    "◦ **  \n",
    "◦ *  \n",
    "◦/  \n",
    "◦ + and – executed left to right, as appear in expression  "
   ]
  },
  {
   "cell_type": "code",
   "execution_count": 30,
   "metadata": {},
   "outputs": [
    {
     "data": {
      "text/plain": [
       "0"
      ]
     },
     "execution_count": 30,
     "metadata": {},
     "output_type": "execute_result"
    }
   ],
   "source": [
    "a=0\n",
    "b=1\n",
    "a and b"
   ]
  },
  {
   "cell_type": "code",
   "execution_count": 34,
   "metadata": {},
   "outputs": [
    {
     "name": "stdout",
     "output_type": "stream",
     "text": [
      "score:99\n",
      "A\n"
     ]
    }
   ],
   "source": [
    "score=int(input(\"score:\"))\n",
    "if 60<=score<=70:\n",
    "    print('D')\n",
    "elif 70<=score<=80:\n",
    "    print('C')\n",
    "elif 80<=score<=90:\n",
    "    print('B')\n",
    "elif 90<=score<=100:\n",
    "    print('A')\n",
    "else:\n",
    "    print('U')"
   ]
  },
  {
   "cell_type": "markdown",
   "metadata": {},
   "source": [
    "从现在起基本上都是新学的知识，所以就不用“#”来区分了。"
   ]
  },
  {
   "cell_type": "markdown",
   "metadata": {},
   "source": [
    "# Strings, Branchinng, Iteration.\n",
    "#BINDING VARIABLES AND VALUES  \n",
    "> equal sign is an assignment of a value to a variable name  \n",
    "\n",
    "> can *re-bind* variable names using new assignment statements  \n",
    "## VARIABLES (REVISITED)  \n",
    "> name  \n",
    "◦ descriptive  \n",
    "◦ meaningful   \n",
    "◦ helps you re-read code ◦ cannot be keywords  \n",
    "\n",
    "> value  \n",
    "◦ information stored ◦ can be updated  "
   ]
  },
  {
   "cell_type": "code",
   "execution_count": 2,
   "metadata": {},
   "outputs": [
    {
     "name": "stdout",
     "output_type": "stream",
     "text": [
      "1 1\n"
     ]
    }
   ],
   "source": [
    "x=1\n",
    "y=2\n",
    "y=x\n",
    "x=y\n",
    "print(x,y) # they doesnt exchange coz in line 3, y=x=1, so when running in line 4,x=y=1."
   ]
  },
  {
   "cell_type": "code",
   "execution_count": 3,
   "metadata": {},
   "outputs": [
    {
     "name": "stdout",
     "output_type": "stream",
     "text": [
      "2 1\n"
     ]
    }
   ],
   "source": [
    "x=1\n",
    "y=2\n",
    "z=y\n",
    "y=x\n",
    "x=z\n",
    "print(x,y) # it do work coz it has a third variable 'z'. 'z' gives a temporary variable to save the value of 'y'. So there isn't a replace of 'y''s value."
   ]
  },
  {
   "cell_type": "markdown",
   "metadata": {},
   "source": [
    "## TYPES\n",
    "### strings\n",
    "###### letters, special characters, spaces, digits.\n",
    "> a(variable) = 1(value)"
   ]
  }
 ],
 "metadata": {
  "kernelspec": {
   "display_name": "Python 3",
   "language": "python",
   "name": "python3"
  },
  "language_info": {
   "codemirror_mode": {
    "name": "ipython",
    "version": 3
   },
   "file_extension": ".py",
   "mimetype": "text/x-python",
   "name": "python",
   "nbconvert_exporter": "python",
   "pygments_lexer": "ipython3",
   "version": "3.6.5"
  }
 },
 "nbformat": 4,
 "nbformat_minor": 2
}
