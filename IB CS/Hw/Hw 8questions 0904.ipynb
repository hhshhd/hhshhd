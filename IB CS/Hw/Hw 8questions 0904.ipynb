{
 "cells": [
  {
   "cell_type": "code",
   "execution_count": 3,
   "metadata": {},
   "outputs": [
    {
     "name": "stdout",
     "output_type": "stream",
     "text": [
      "All work and no play makes jack a dull boy\n"
     ]
    }
   ],
   "source": [
    "a,b,c,d,e,f,g,h,i,j='All','work','and','no','play','makes','jack','a','dull','boy'\n",
    "print(a,b,c,d,e,f,g,h,i,j)"
   ]
  },
  {
   "cell_type": "code",
   "execution_count": 5,
   "metadata": {},
   "outputs": [
    {
     "data": {
      "text/plain": [
       "-6"
      ]
     },
     "execution_count": 5,
     "metadata": {},
     "output_type": "execute_result"
    }
   ],
   "source": [
    "6*(1-2)"
   ]
  },
  {
   "cell_type": "code",
   "execution_count": 7,
   "metadata": {},
   "outputs": [
    {
     "name": "stdout",
     "output_type": "stream",
     "text": [
      "min and max of the number：100,10\n",
      "game start！your guest:50\n",
      "too big your guest:30\n",
      "so small your guest:40\n",
      "so small your guest:45\n",
      "too big your guest:43\n",
      "too big your guest:42\n",
      "too big your guest:41\n",
      "You're RIGHT！！！\n",
      "error time： 6 times you play: 7\n"
     ]
    }
   ],
   "source": [
    "#猜数字游戏\n",
    "import random#从python自带的库调取random\n",
    "a,b=eval(input(\"min and max of the number：\"))\n",
    "while a>b:\n",
    "    a,b=b,a\n",
    "c=random.randint(a,b)#c是从a到b之间任意取一个数字\n",
    "x=eval(input(\"game start！your guest:\"))\n",
    "error_time=0\n",
    "while x!=c:\n",
    "    if x>c:\n",
    "        x=eval(input(\"too big your guest:\"))\n",
    "        error_time+=1\n",
    "    else:\n",
    "        x=eval(input(\"so small your guest:\"))\n",
    "        error_time+=1\n",
    "else:\n",
    "    print(\"You're RIGHT！！！\")\n",
    "    print('error time：',error_time,'times you play:',(error_time+1))\n"
   ]
  },
  {
   "cell_type": "code",
   "execution_count": 8,
   "metadata": {},
   "outputs": [
    {
     "data": {
      "text/plain": [
       "10"
      ]
     },
     "execution_count": 8,
     "metadata": {},
     "output_type": "execute_result"
    }
   ],
   "source": [
    "bruce=6\n",
    "bruce+4"
   ]
  },
  {
   "cell_type": "code",
   "execution_count": 11,
   "metadata": {},
   "outputs": [
    {
     "name": "stdout",
     "output_type": "stream",
     "text": [
      "t=1\n",
      "10829.995068075097\n"
     ]
    }
   ],
   "source": [
    "P=10000\n",
    "n=12\n",
    "r=0.08\n",
    "t=int(input('t='))\n",
    "A=P*(1+r/n)**(n*t)\n",
    "print(A)"
   ]
  },
  {
   "cell_type": "code",
   "execution_count": 12,
   "metadata": {},
   "outputs": [
    {
     "name": "stdout",
     "output_type": "stream",
     "text": [
      "integer division or modulo by zero\n"
     ]
    }
   ],
   "source": [
    "try:\n",
    "    7%0\n",
    "except BaseException as e:\n",
    "    print(e)"
   ]
  },
  {
   "cell_type": "code",
   "execution_count": 25,
   "metadata": {},
   "outputs": [
    {
     "name": "stdout",
     "output_type": "stream",
     "text": [
      "5 am\n"
     ]
    }
   ],
   "source": [
    "t='2pm'\n",
    "T=(int(t[:-2])+51)%12\n",
    "if T%12!=0:\n",
    "    print(T,'am')\n",
    "else:\n",
    "    print(T,'pm')"
   ]
  },
  {
   "cell_type": "code",
   "execution_count": 26,
   "metadata": {},
   "outputs": [
    {
     "name": "stdout",
     "output_type": "stream",
     "text": [
      "time start:14\n",
      "hours to wait:14\n",
      "4\n"
     ]
    }
   ],
   "source": [
    "t1=int(input('time start:'))\n",
    "t2=int(input(\"hours to wait:\"))\n",
    "print((t1+t2)%24)"
   ]
  },
  {
   "cell_type": "code",
   "execution_count": null,
   "metadata": {},
   "outputs": [],
   "source": []
  }
 ],
 "metadata": {
  "kernelspec": {
   "display_name": "Python 3",
   "language": "python",
   "name": "python3"
  },
  "language_info": {
   "codemirror_mode": {
    "name": "ipython",
    "version": 3
   },
   "file_extension": ".py",
   "mimetype": "text/x-python",
   "name": "python",
   "nbconvert_exporter": "python",
   "pygments_lexer": "ipython3",
   "version": "3.6.5"
  }
 },
 "nbformat": 4,
 "nbformat_minor": 2
}
